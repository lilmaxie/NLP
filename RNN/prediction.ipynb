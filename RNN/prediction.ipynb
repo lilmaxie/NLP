{
 "cells": [
  {
   "cell_type": "code",
   "execution_count": 1,
   "id": "dd1d2ac5",
   "metadata": {},
   "outputs": [],
   "source": [
    "import numpy as np\n",
    "import tensorflow as tf\n",
    "from tensorflow.keras.datasets import imdb\n",
    "from tensorflow.keras.preprocessing import sequence\n",
    "from tensorflow.keras.models import load_model"
   ]
  },
  {
   "cell_type": "code",
   "execution_count": 2,
   "id": "dd247e75",
   "metadata": {},
   "outputs": [],
   "source": [
    "# load the IMDB dataset word index\n",
    "word_index = imdb.get_word_index()\n",
    "reverse_word_index = {value: key for (key, value) in word_index.items()}"
   ]
  },
  {
   "cell_type": "code",
   "execution_count": null,
   "id": "0fc51147",
   "metadata": {},
   "outputs": [],
   "source": [
    "model = tf.keras.models.load_model('imdb_rnn_model.keras', compile=False)\n",
    "model.summary()"
   ]
  },
  {
   "cell_type": "code",
   "execution_count": null,
   "id": "0c4027ec",
   "metadata": {},
   "outputs": [],
   "source": [
    "mode.get_weights()"
   ]
  },
  {
   "cell_type": "code",
   "execution_count": 9,
   "id": "e2e43139",
   "metadata": {},
   "outputs": [],
   "source": [
    "# Helper function to decode reviews\n",
    "def decode_review(text):\n",
    "    return ' '.join([reverse_word_index.get(i - 3, '?') for i in text])\n",
    "\n",
    "# function to preprocess user input\n",
    "def preprocess_text(text):\n",
    "    # Convert the text to lowercase\n",
    "    words = text.lower().split()\n",
    "    # encode the words to integers\n",
    "    encoded = [word_index.get(word, 2) + 3 for word in words]\n",
    "    # pad the sequence to the same length as the training data\n",
    "    padded_review = sequence.pad_sequences([encoded], maxlen=500)\n",
    "    return padded_review"
   ]
  },
  {
   "cell_type": "code",
   "execution_count": 10,
   "id": "2b90acb5",
   "metadata": {},
   "outputs": [],
   "source": [
    "# predict function\n",
    "def predict_sentiment(review):\n",
    "    preprocess_text(review)\n",
    "    # make prediction\n",
    "    prediction = model.predict(preprocess_text(review))\n",
    "    # convert prediction to sentiment\n",
    "    sentiment = 'positive' if prediction[0][0] > 0.5 else 'negative'\n",
    "    return sentiment, prediction[0][0]"
   ]
  },
  {
   "cell_type": "code",
   "execution_count": null,
   "id": "7ea45d0e",
   "metadata": {},
   "outputs": [],
   "source": [
    "# test the model with a sample review\n",
    "example_review = \"This movie was fantastic! I loved it.\"\n",
    "\n",
    "sentiment, score = predict_sentiment(example_review)\n",
    "print(f\"Review: {example_review}\")"
   ]
  }
 ],
 "metadata": {
  "kernelspec": {
   "display_name": "tf",
   "language": "python",
   "name": "python3"
  },
  "language_info": {
   "codemirror_mode": {
    "name": "ipython",
    "version": 3
   },
   "file_extension": ".py",
   "mimetype": "text/x-python",
   "name": "python",
   "nbconvert_exporter": "python",
   "pygments_lexer": "ipython3",
   "version": "3.8.20"
  }
 },
 "nbformat": 4,
 "nbformat_minor": 5
}
