{
 "cells": [
  {
   "cell_type": "markdown",
   "id": "2d60d90c",
   "metadata": {},
   "source": [
    "#### PART OF SPEECH TAGGING ####\n",
    "Part of Speech (POS) tagging is the process of assigning a part of speech to each word in a sentence. The part of speech can be a noun, verb, adjective, adverb, etc. POS tagging is important for understanding the grammatical structure of a sentence and for many NLP tasks such as named entity recognition, sentiment analysis, and machine translation.\n",
    "\n",
    "- CC - Coordinating conjunction\n",
    "- CD - Cardinal number\n",
    "- DT - Determiner\n",
    "- EX - Existential there\n",
    "- FW - Foreign word\n",
    "- IN - Preposition or subordinating conjunction\n",
    "- ..."
   ]
  },
  {
   "cell_type": "code",
   "execution_count": 1,
   "id": "785d46f7",
   "metadata": {},
   "outputs": [],
   "source": [
    "paragraph = \"\"\"It started as just another uneventful afternoon, the kind where the sky hangs dull and gray like a curtain that forgot how to be blue. \n",
    "Out of nowhere, this beat-up ice cream truck rolled into the cul-de-sac, its jingle playing a warped, off-key melody that sounded more like a haunted lullaby than a summer tune. Kids peeked through their curtains but didn’t rush out like usual—something about the driver’s too-wide grin and mirrored sunglasses made everyone hesitate. Still, curiosity’s a powerful thing. One by one, they trickled outside, drawn like moths to a weird, sticky flame. \n",
    "But instead of ice cream, the truck was handing out little jars filled with glowing jellybeans—each one pulsing like it had a heartbeat. No one knew what would happen if you ate one, but the neighborhood would never be the same again after that day.\"\"\""
   ]
  },
  {
   "cell_type": "code",
   "execution_count": 7,
   "id": "d1562071",
   "metadata": {},
   "outputs": [
    {
     "name": "stderr",
     "output_type": "stream",
     "text": [
      "[nltk_data] Downloading package averaged_perceptron_tagger_eng to\n",
      "[nltk_data]     C:\\Users\\hoang\\AppData\\Roaming\\nltk_data...\n",
      "[nltk_data]   Unzipping taggers\\averaged_perceptron_tagger_eng.zip.\n"
     ]
    },
    {
     "data": {
      "text/plain": [
       "True"
      ]
     },
     "execution_count": 7,
     "metadata": {},
     "output_type": "execute_result"
    }
   ],
   "source": [
    "import nltk\n",
    "from nltk.corpus import stopwords\n",
    "nltk.download('averaged_perceptron_tagger_eng')"
   ]
  },
  {
   "cell_type": "code",
   "execution_count": 12,
   "id": "49e7a57b",
   "metadata": {},
   "outputs": [
    {
     "name": "stderr",
     "output_type": "stream",
     "text": [
      "[nltk_data] Downloading package tagsets_json to\n",
      "[nltk_data]     C:\\Users\\hoang\\AppData\\Roaming\\nltk_data...\n",
      "[nltk_data]   Unzipping help\\tagsets_json.zip.\n"
     ]
    },
    {
     "data": {
      "text/plain": [
       "True"
      ]
     },
     "execution_count": 12,
     "metadata": {},
     "output_type": "execute_result"
    }
   ],
   "source": [
    "nltk.download('tagsets_json')"
   ]
  },
  {
   "cell_type": "code",
   "execution_count": 13,
   "id": "8d80f9bb",
   "metadata": {},
   "outputs": [
    {
     "name": "stdout",
     "output_type": "stream",
     "text": [
      "$: dollar\n",
      "    $ -$ --$ A$ C$ HK$ M$ NZ$ S$ U.S.$ US$\n",
      "'': closing quotation mark\n",
      "    ' ''\n",
      "(: opening parenthesis\n",
      "    ( [ {\n",
      "): closing parenthesis\n",
      "    ) ] }\n",
      ",: comma\n",
      "    ,\n",
      "--: dash\n",
      "    --\n",
      ".: sentence terminator\n",
      "    . ! ?\n",
      ":: colon or ellipsis\n",
      "    : ; ...\n",
      "CC: conjunction, coordinating\n",
      "    & 'n and both but either et for less minus neither nor or plus so\n",
      "    therefore times v. versus vs. whether yet\n",
      "CD: numeral, cardinal\n",
      "    mid-1890 nine-thirty forty-two one-tenth ten million 0.5 one forty-\n",
      "    seven 1987 twenty '79 zero two 78-degrees eighty-four IX '60s .025\n",
      "    fifteen 271,124 dozen quintillion DM2,000 ...\n",
      "DT: determiner\n",
      "    all an another any both del each either every half la many much nary\n",
      "    neither no some such that the them these this those\n",
      "EX: existential there\n",
      "    there\n",
      "FW: foreign word\n",
      "    gemeinschaft hund ich jeux habeas Haementeria Herr K'ang-si vous\n",
      "    lutihaw alai je jour objets salutaris fille quibusdam pas trop Monte\n",
      "    terram fiche oui corporis ...\n",
      "IN: preposition or conjunction, subordinating\n",
      "    astride among uppon whether out inside pro despite on by throughout\n",
      "    below within for towards near behind atop around if like until below\n",
      "    next into if beside ...\n",
      "JJ: adjective or numeral, ordinal\n",
      "    third ill-mannered pre-war regrettable oiled calamitous first separable\n",
      "    ectoplasmic battery-powered participatory fourth still-to-be-named\n",
      "    multilingual multi-disciplinary ...\n",
      "JJR: adjective, comparative\n",
      "    bleaker braver breezier briefer brighter brisker broader bumper busier\n",
      "    calmer cheaper choosier cleaner clearer closer colder commoner costlier\n",
      "    cozier creamier crunchier cuter ...\n",
      "JJS: adjective, superlative\n",
      "    calmest cheapest choicest classiest cleanest clearest closest commonest\n",
      "    corniest costliest crassest creepiest crudest cutest darkest deadliest\n",
      "    dearest deepest densest dinkiest ...\n",
      "LS: list item marker\n",
      "    A A. B B. C C. D E F First G H I J K One SP-44001 SP-44002 SP-44005\n",
      "    SP-44007 Second Third Three Two * a b c d first five four one six three\n",
      "    two\n",
      "MD: modal auxiliary\n",
      "    can cannot could couldn't dare may might must need ought shall should\n",
      "    shouldn't will would\n",
      "NN: noun, common, singular or mass\n",
      "    common-carrier cabbage knuckle-duster Casino afghan shed thermostat\n",
      "    investment slide humour falloff slick wind hyena override subhumanity\n",
      "    machinist ...\n",
      "NNP: noun, proper, singular\n",
      "    Motown Venneboerger Czestochwa Ranzer Conchita Trumplane Christos\n",
      "    Oceanside Escobar Kreisler Sawyer Cougar Yvette Ervin ODI Darryl CTCA\n",
      "    Shannon A.K.C. Meltex Liverpool ...\n",
      "NNPS: noun, proper, plural\n",
      "    Americans Americas Amharas Amityvilles Amusements Anarcho-Syndicalists\n",
      "    Andalusians Andes Andruses Angels Animals Anthony Antilles Antiques\n",
      "    Apache Apaches Apocrypha ...\n",
      "NNS: noun, common, plural\n",
      "    undergraduates scotches bric-a-brac products bodyguards facets coasts\n",
      "    divestitures storehouses designs clubs fragrances averages\n",
      "    subjectivists apprehensions muses factory-jobs ...\n",
      "PDT: pre-determiner\n",
      "    all both half many quite such sure this\n",
      "POS: genitive marker\n",
      "    ' 's\n",
      "PRP: pronoun, personal\n",
      "    hers herself him himself hisself it itself me myself one oneself ours\n",
      "    ourselves ownself self she thee theirs them themselves they thou thy us\n",
      "PRP$: pronoun, possessive\n",
      "    her his mine my our ours their thy your\n",
      "RB: adverb\n",
      "    occasionally unabatingly maddeningly adventurously professedly\n",
      "    stirringly prominently technologically magisterially predominately\n",
      "    swiftly fiscally pitilessly ...\n",
      "RBR: adverb, comparative\n",
      "    further gloomier grander graver greater grimmer harder harsher\n",
      "    healthier heavier higher however larger later leaner lengthier less-\n",
      "    perfectly lesser lonelier longer louder lower more ...\n",
      "RBS: adverb, superlative\n",
      "    best biggest bluntest earliest farthest first furthest hardest\n",
      "    heartiest highest largest least less most nearest second tightest worst\n",
      "RP: particle\n",
      "    aboard about across along apart around aside at away back before behind\n",
      "    by crop down ever fast for forth from go high i.e. in into just later\n",
      "    low more off on open out over per pie raising start teeth that through\n",
      "    under unto up up-pp upon whole with you\n",
      "SYM: symbol\n",
      "    % & ' '' ''. ) ). * + ,. < = > @ A[fj] U.S U.S.S.R * ** ***\n",
      "TO: \"to\" as preposition or infinitive marker\n",
      "    to\n",
      "UH: interjection\n",
      "    Goodbye Goody Gosh Wow Jeepers Jee-sus Hubba Hey Kee-reist Oops amen\n",
      "    huh howdy uh dammit whammo shucks heck anyways whodunnit honey golly\n",
      "    man baby diddle hush sonuvabitch ...\n",
      "VB: verb, base form\n",
      "    ask assemble assess assign assume atone attention avoid bake balkanize\n",
      "    bank begin behold believe bend benefit bevel beware bless boil bomb\n",
      "    boost brace break bring broil brush build ...\n",
      "VBD: verb, past tense\n",
      "    dipped pleaded swiped regummed soaked tidied convened halted registered\n",
      "    cushioned exacted snubbed strode aimed adopted belied figgered\n",
      "    speculated wore appreciated contemplated ...\n",
      "VBG: verb, present participle or gerund\n",
      "    telegraphing stirring focusing angering judging stalling lactating\n",
      "    hankerin' alleging veering capping approaching traveling besieging\n",
      "    encrypting interrupting erasing wincing ...\n",
      "VBN: verb, past participle\n",
      "    multihulled dilapidated aerosolized chaired languished panelized used\n",
      "    experimented flourished imitated reunifed factored condensed sheared\n",
      "    unsettled primed dubbed desired ...\n",
      "VBP: verb, present tense, not 3rd person singular\n",
      "    predominate wrap resort sue twist spill cure lengthen brush terminate\n",
      "    appear tend stray glisten obtain comprise detest tease attract\n",
      "    emphasize mold postpone sever return wag ...\n",
      "VBZ: verb, present tense, 3rd person singular\n",
      "    bases reconstructs marks mixes displeases seals carps weaves snatches\n",
      "    slumps stretches authorizes smolders pictures emerges stockpiles\n",
      "    seduces fizzes uses bolsters slaps speaks pleads ...\n",
      "WDT: WH-determiner\n",
      "    that what whatever which whichever\n",
      "WP: WH-pronoun\n",
      "    that what whatever whatsoever which who whom whosoever\n",
      "WP$: WH-pronoun, possessive\n",
      "    whose\n",
      "WRB: Wh-adverb\n",
      "    how however whence whenever where whereby whereever wherein whereof why\n",
      "``: opening quotation mark\n",
      "    ` ``\n",
      "None\n"
     ]
    }
   ],
   "source": [
    "# show all the pos tags\n",
    "print(nltk.help.upenn_tagset())"
   ]
  },
  {
   "cell_type": "code",
   "execution_count": 8,
   "id": "32a49c16",
   "metadata": {},
   "outputs": [
    {
     "data": {
      "text/plain": [
       "['It started as just another uneventful afternoon, the kind where the sky hangs dull and gray like a curtain that forgot how to be blue.',\n",
       " 'Out of nowhere, this beat-up ice cream truck rolled into the cul-de-sac, its jingle playing a warped, off-key melody that sounded more like a haunted lullaby than a summer tune.',\n",
       " 'Kids peeked through their curtains but didn’t rush out like usual—something about the driver’s too-wide grin and mirrored sunglasses made everyone hesitate.',\n",
       " 'Still, curiosity’s a powerful thing.',\n",
       " 'One by one, they trickled outside, drawn like moths to a weird, sticky flame.',\n",
       " 'But instead of ice cream, the truck was handing out little jars filled with glowing jellybeans—each one pulsing like it had a heartbeat.',\n",
       " 'No one knew what would happen if you ate one, but the neighborhood would never be the same again after that day.']"
      ]
     },
     "execution_count": 8,
     "metadata": {},
     "output_type": "execute_result"
    }
   ],
   "source": [
    "sentences = nltk.sent_tokenize(paragraph)\n",
    "sentences"
   ]
  },
  {
   "cell_type": "code",
   "execution_count": 9,
   "id": "11bc934a",
   "metadata": {},
   "outputs": [
    {
     "name": "stdout",
     "output_type": "stream",
     "text": [
      "[('It', 'PRP'), ('started', 'VBD'), ('another', 'DT'), ('uneventful', 'JJ'), ('afternoon', 'NN'), (',', ','), ('kind', 'NN'), ('sky', 'JJ'), ('hangs', 'NNS'), ('dull', 'JJ'), ('gray', 'NN'), ('like', 'IN'), ('curtain', 'NN'), ('forgot', 'VBD'), ('blue', 'JJ'), ('.', '.')]\n",
      "[('Out', 'IN'), ('nowhere', 'RB'), (',', ','), ('beat-up', 'JJ'), ('ice', 'NN'), ('cream', 'NN'), ('truck', 'NN'), ('rolled', 'VBN'), ('cul-de-sac', 'NN'), (',', ','), ('jingle', 'NN'), ('playing', 'NN'), ('warped', 'VBD'), (',', ','), ('off-key', 'JJ'), ('melody', 'NN'), ('sounded', 'VBD'), ('like', 'IN'), ('haunted', 'VBN'), ('lullaby', 'NN'), ('summer', 'NN'), ('tune', 'NN'), ('.', '.')]\n",
      "[('Kids', 'NNS'), ('peeked', 'VBD'), ('curtains', 'NNS'), ('’', 'JJ'), ('rush', 'NN'), ('like', 'IN'), ('usual—something', 'VBG'), ('driver', 'NN'), ('’', 'VBD'), ('too-wide', 'JJ'), ('grin', 'NN'), ('mirrored', 'VBD'), ('sunglasses', 'NNS'), ('made', 'VBD'), ('everyone', 'NN'), ('hesitate', 'NN'), ('.', '.')]\n",
      "[('Still', 'RB'), (',', ','), ('curiosity', 'NN'), ('’', 'NNP'), ('powerful', 'JJ'), ('thing', 'NN'), ('.', '.')]\n",
      "[('One', 'CD'), ('one', 'CD'), (',', ','), ('trickled', 'VBD'), ('outside', 'RB'), (',', ','), ('drawn', 'NN'), ('like', 'IN'), ('moths', 'NNS'), ('weird', 'JJ'), (',', ','), ('sticky', 'JJ'), ('flame', 'NN'), ('.', '.')]\n",
      "[('But', 'CC'), ('instead', 'RB'), ('ice', 'JJ'), ('cream', 'NN'), (',', ','), ('truck', 'NN'), ('handing', 'VBG'), ('little', 'JJ'), ('jars', 'NNS'), ('filled', 'VBD'), ('glowing', 'VBG'), ('jellybeans—each', 'NN'), ('one', 'CD'), ('pulsing', 'NN'), ('like', 'IN'), ('heartbeat', 'NN'), ('.', '.')]\n",
      "[('No', 'DT'), ('one', 'CD'), ('knew', 'NN'), ('would', 'MD'), ('happen', 'VB'), ('ate', 'VB'), ('one', 'CD'), (',', ','), ('neighborhood', 'NN'), ('would', 'MD'), ('never', 'RB'), ('day', 'NN'), ('.', '.')]\n"
     ]
    }
   ],
   "source": [
    "# find the pos tag\n",
    " \n",
    "for i in range(len(sentences)):\n",
    "    words = nltk.word_tokenize(sentences[i])\n",
    "    words = [word for word in words if word not in set(stopwords.words('english'))]\n",
    "    pos_tag = nltk.pos_tag(words)\n",
    "    print(pos_tag)"
   ]
  },
  {
   "cell_type": "code",
   "execution_count": null,
   "id": "ff2a65ad",
   "metadata": {},
   "outputs": [
    {
     "name": "stdout",
     "output_type": "stream",
     "text": [
      "[[('I', 'PRP'), ('am', 'VBP'), ('a', 'DT'), ('student', 'NN')]]\n"
     ]
    }
   ],
   "source": [
    "sentence = \"I am a student\"\n",
    "tokens = nltk.word_tokenize(sentence)\n",
    "tagged = nltk.pos_tag_sents([tokens])  # phải bọc tokens trong list\n",
    "\n",
    "print(tagged)"
   ]
  },
  {
   "cell_type": "code",
   "execution_count": 17,
   "id": "bf2e318d",
   "metadata": {},
   "outputs": [
    {
     "data": {
      "text/plain": [
       "[('I', 'PRP'), ('am', 'VBP'), ('a', 'DT'), ('student', 'NN')]"
      ]
     },
     "execution_count": 17,
     "metadata": {},
     "output_type": "execute_result"
    }
   ],
   "source": [
    "nltk.pos_tag(\"I am a student\".split())  # không cần bọc trong list"
   ]
  },
  {
   "cell_type": "code",
   "execution_count": null,
   "id": "fb89946d",
   "metadata": {},
   "outputs": [],
   "source": []
  }
 ],
 "metadata": {
  "kernelspec": {
   "display_name": "pytorch",
   "language": "python",
   "name": "python3"
  },
  "language_info": {
   "codemirror_mode": {
    "name": "ipython",
    "version": 3
   },
   "file_extension": ".py",
   "mimetype": "text/x-python",
   "name": "python",
   "nbconvert_exporter": "python",
   "pygments_lexer": "ipython3",
   "version": "3.10.16"
  }
 },
 "nbformat": 4,
 "nbformat_minor": 5
}
