{
 "cells": [
  {
   "cell_type": "markdown",
   "id": "8aaa712e",
   "metadata": {},
   "source": [
    "#### LEMMATIZATION ####\n",
    "Lemmatization technique is like stemming but it is more accurate and sophisticated. It considers the context and converts the word to its meaningful base form. For example, the lemma of “better” is “good”, and the lemma of “running” is “run”. Lemmatization requires a dictionary to get the correct base form of the word.\n",
    "\n",
    "NLTK provides WordNetLemmatizer class which is a thin wrapper around the wordnet corpus. This class uses morphy() function to the WordNetCorpusReader class to find a lemma."
   ]
  },
  {
   "cell_type": "code",
   "execution_count": 1,
   "id": "c210d405",
   "metadata": {},
   "outputs": [],
   "source": [
    "from nltk.stem import WordNetLemmatizer"
   ]
  },
  {
   "cell_type": "code",
   "execution_count": 2,
   "id": "4b444ce1",
   "metadata": {},
   "outputs": [],
   "source": [
    "lemmatizer = WordNetLemmatizer()"
   ]
  },
  {
   "cell_type": "code",
   "execution_count": 7,
   "id": "0275adc5",
   "metadata": {},
   "outputs": [
    {
     "name": "stdout",
     "output_type": "stream",
     "text": [
      "go\n",
      "going\n",
      "going\n",
      "going\n"
     ]
    }
   ],
   "source": [
    "\"\"\"\n",
    "POS - Noun-n\n",
    "verb-v\n",
    "adjective-a\n",
    "adverb-r\n",
    "\"\"\"\n",
    "print(lemmatizer.lemmatize(\"going\", pos=\"v\"))  # going -> go\n",
    "print(lemmatizer.lemmatize(\"going\", pos=\"n\"))  # going -> going\n",
    "print(lemmatizer.lemmatize(\"going\", pos=\"a\"))  # going -> going\n",
    "print(lemmatizer.lemmatize(\"going\", pos=\"r\"))  # going -> going"
   ]
  },
  {
   "cell_type": "code",
   "execution_count": 8,
   "id": "e60ec3ed",
   "metadata": {},
   "outputs": [],
   "source": [
    "words = [\"eating\", \"eats\", \"ate\", \"eaten\", \"eat\", \"eater\", \"eaters\", \"eating\", \"writing\", \"writes\", \"wrote\", \"written\", \"write\", \"writer\", \"writers\", \"programming\", \"programs\", \"programmed\", \"programmer\", \"programmers\", \"programming\"]"
   ]
  },
  {
   "cell_type": "code",
   "execution_count": 10,
   "id": "3bd51daa",
   "metadata": {},
   "outputs": [
    {
     "name": "stdout",
     "output_type": "stream",
     "text": [
      "eating ---> eat\n",
      "eats ---> eat\n",
      "ate ---> eat\n",
      "eaten ---> eat\n",
      "eat ---> eat\n",
      "eater ---> eater\n",
      "eaters ---> eaters\n",
      "eating ---> eat\n",
      "writing ---> write\n",
      "writes ---> write\n",
      "wrote ---> write\n",
      "written ---> write\n",
      "write ---> write\n",
      "writer ---> writer\n",
      "writers ---> writers\n",
      "programming ---> program\n",
      "programs ---> program\n",
      "programmed ---> program\n",
      "programmer ---> programmer\n",
      "programmers ---> programmers\n",
      "programming ---> program\n"
     ]
    }
   ],
   "source": [
    "for word in words:\n",
    "    print(word + \" ---> \" + lemmatizer.lemmatize(word, pos=\"v\"))  "
   ]
  },
  {
   "cell_type": "code",
   "execution_count": 11,
   "id": "bf02964d",
   "metadata": {},
   "outputs": [
    {
     "data": {
      "text/plain": [
       "'go'"
      ]
     },
     "execution_count": 11,
     "metadata": {},
     "output_type": "execute_result"
    }
   ],
   "source": [
    "lemmatizer.lemmatize(\"goes\")"
   ]
  },
  {
   "cell_type": "code",
   "execution_count": 15,
   "id": "ca7ac3c2",
   "metadata": {},
   "outputs": [
    {
     "data": {
      "text/plain": [
       "('fairly', 'supportingly')"
      ]
     },
     "execution_count": 15,
     "metadata": {},
     "output_type": "execute_result"
    }
   ],
   "source": [
    "lemmatizer.lemmatize(\"fairly\"), lemmatizer.lemmatize(\"supportingly\")"
   ]
  },
  {
   "cell_type": "code",
   "execution_count": null,
   "id": "627e186b",
   "metadata": {},
   "outputs": [],
   "source": []
  }
 ],
 "metadata": {
  "kernelspec": {
   "display_name": "pytorch",
   "language": "python",
   "name": "python3"
  },
  "language_info": {
   "codemirror_mode": {
    "name": "ipython",
    "version": 3
   },
   "file_extension": ".py",
   "mimetype": "text/x-python",
   "name": "python",
   "nbconvert_exporter": "python",
   "pygments_lexer": "ipython3",
   "version": "3.10.16"
  }
 },
 "nbformat": 4,
 "nbformat_minor": 5
}
