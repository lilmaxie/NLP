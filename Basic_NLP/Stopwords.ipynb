{
 "cells": [
  {
   "cell_type": "code",
   "execution_count": 1,
   "id": "edcc7f5a",
   "metadata": {},
   "outputs": [],
   "source": [
    "paragraph = \"\"\"It started as just another uneventful afternoon, the kind where the sky hangs dull and gray like a curtain that forgot how to be blue. \n",
    "Out of nowhere, this beat-up ice cream truck rolled into the cul-de-sac, its jingle playing a warped, off-key melody that sounded more like a haunted lullaby than a summer tune. Kids peeked through their curtains but didn’t rush out like usual—something about the driver’s too-wide grin and mirrored sunglasses made everyone hesitate. Still, curiosity’s a powerful thing. One by one, they trickled outside, drawn like moths to a weird, sticky flame. \n",
    "But instead of ice cream, the truck was handing out little jars filled with glowing jellybeans—each one pulsing like it had a heartbeat. No one knew what would happen if you ate one, but the neighborhood would never be the same again after that day.\"\"\""
   ]
  },
  {
   "cell_type": "code",
   "execution_count": 3,
   "id": "36ad45bd",
   "metadata": {},
   "outputs": [
    {
     "name": "stderr",
     "output_type": "stream",
     "text": [
      "[nltk_data] Downloading package stopwords to\n",
      "[nltk_data]     C:\\Users\\hoang\\AppData\\Roaming\\nltk_data...\n",
      "[nltk_data]   Unzipping corpora\\stopwords.zip.\n"
     ]
    },
    {
     "data": {
      "text/plain": [
       "True"
      ]
     },
     "execution_count": 3,
     "metadata": {},
     "output_type": "execute_result"
    }
   ],
   "source": [
    "from nltk.stem import PorterStemmer\n",
    "from nltk.corpus import stopwords\n",
    "import nltk\n",
    "\n",
    "nltk.download('stopwords')"
   ]
  },
  {
   "cell_type": "code",
   "execution_count": 13,
   "id": "3a43f033",
   "metadata": {},
   "outputs": [
    {
     "data": {
      "text/plain": [
       "['a',\n",
       " 'about',\n",
       " 'above',\n",
       " 'after',\n",
       " 'again',\n",
       " 'against',\n",
       " 'ain',\n",
       " 'all',\n",
       " 'am',\n",
       " 'an',\n",
       " 'and',\n",
       " 'any',\n",
       " 'are',\n",
       " 'aren',\n",
       " \"aren't\",\n",
       " 'as',\n",
       " 'at',\n",
       " 'be',\n",
       " 'because',\n",
       " 'been',\n",
       " 'before',\n",
       " 'being',\n",
       " 'below',\n",
       " 'between',\n",
       " 'both',\n",
       " 'but',\n",
       " 'by',\n",
       " 'can',\n",
       " 'couldn',\n",
       " \"couldn't\",\n",
       " 'd',\n",
       " 'did',\n",
       " 'didn',\n",
       " \"didn't\",\n",
       " 'do',\n",
       " 'does',\n",
       " 'doesn',\n",
       " \"doesn't\",\n",
       " 'doing',\n",
       " 'don',\n",
       " \"don't\",\n",
       " 'down',\n",
       " 'during',\n",
       " 'each',\n",
       " 'few',\n",
       " 'for',\n",
       " 'from',\n",
       " 'further',\n",
       " 'had',\n",
       " 'hadn',\n",
       " \"hadn't\",\n",
       " 'has',\n",
       " 'hasn',\n",
       " \"hasn't\",\n",
       " 'have',\n",
       " 'haven',\n",
       " \"haven't\",\n",
       " 'having',\n",
       " 'he',\n",
       " \"he'd\",\n",
       " \"he'll\",\n",
       " 'her',\n",
       " 'here',\n",
       " 'hers',\n",
       " 'herself',\n",
       " \"he's\",\n",
       " 'him',\n",
       " 'himself',\n",
       " 'his',\n",
       " 'how',\n",
       " 'i',\n",
       " \"i'd\",\n",
       " 'if',\n",
       " \"i'll\",\n",
       " \"i'm\",\n",
       " 'in',\n",
       " 'into',\n",
       " 'is',\n",
       " 'isn',\n",
       " \"isn't\",\n",
       " 'it',\n",
       " \"it'd\",\n",
       " \"it'll\",\n",
       " \"it's\",\n",
       " 'its',\n",
       " 'itself',\n",
       " \"i've\",\n",
       " 'just',\n",
       " 'll',\n",
       " 'm',\n",
       " 'ma',\n",
       " 'me',\n",
       " 'mightn',\n",
       " \"mightn't\",\n",
       " 'more',\n",
       " 'most',\n",
       " 'mustn',\n",
       " \"mustn't\",\n",
       " 'my',\n",
       " 'myself',\n",
       " 'needn',\n",
       " \"needn't\",\n",
       " 'no',\n",
       " 'nor',\n",
       " 'not',\n",
       " 'now',\n",
       " 'o',\n",
       " 'of',\n",
       " 'off',\n",
       " 'on',\n",
       " 'once',\n",
       " 'only',\n",
       " 'or',\n",
       " 'other',\n",
       " 'our',\n",
       " 'ours',\n",
       " 'ourselves',\n",
       " 'out',\n",
       " 'over',\n",
       " 'own',\n",
       " 're',\n",
       " 's',\n",
       " 'same',\n",
       " 'shan',\n",
       " \"shan't\",\n",
       " 'she',\n",
       " \"she'd\",\n",
       " \"she'll\",\n",
       " \"she's\",\n",
       " 'should',\n",
       " 'shouldn',\n",
       " \"shouldn't\",\n",
       " \"should've\",\n",
       " 'so',\n",
       " 'some',\n",
       " 'such',\n",
       " 't',\n",
       " 'than',\n",
       " 'that',\n",
       " \"that'll\",\n",
       " 'the',\n",
       " 'their',\n",
       " 'theirs',\n",
       " 'them',\n",
       " 'themselves',\n",
       " 'then',\n",
       " 'there',\n",
       " 'these',\n",
       " 'they',\n",
       " \"they'd\",\n",
       " \"they'll\",\n",
       " \"they're\",\n",
       " \"they've\",\n",
       " 'this',\n",
       " 'those',\n",
       " 'through',\n",
       " 'to',\n",
       " 'too',\n",
       " 'under',\n",
       " 'until',\n",
       " 'up',\n",
       " 've',\n",
       " 'very',\n",
       " 'was',\n",
       " 'wasn',\n",
       " \"wasn't\",\n",
       " 'we',\n",
       " \"we'd\",\n",
       " \"we'll\",\n",
       " \"we're\",\n",
       " 'were',\n",
       " 'weren',\n",
       " \"weren't\",\n",
       " \"we've\",\n",
       " 'what',\n",
       " 'when',\n",
       " 'where',\n",
       " 'which',\n",
       " 'while',\n",
       " 'who',\n",
       " 'whom',\n",
       " 'why',\n",
       " 'will',\n",
       " 'with',\n",
       " 'won',\n",
       " \"won't\",\n",
       " 'wouldn',\n",
       " \"wouldn't\",\n",
       " 'y',\n",
       " 'you',\n",
       " \"you'd\",\n",
       " \"you'll\",\n",
       " 'your',\n",
       " \"you're\",\n",
       " 'yours',\n",
       " 'yourself',\n",
       " 'yourselves',\n",
       " \"you've\"]"
      ]
     },
     "execution_count": 13,
     "metadata": {},
     "output_type": "execute_result"
    }
   ],
   "source": [
    "stopwords.words('english')"
   ]
  },
  {
   "cell_type": "code",
   "execution_count": 14,
   "id": "f04d552b",
   "metadata": {},
   "outputs": [],
   "source": [
    "stemmer = PorterStemmer()"
   ]
  },
  {
   "cell_type": "code",
   "execution_count": 17,
   "id": "278b8a4e",
   "metadata": {},
   "outputs": [
    {
     "data": {
      "text/plain": [
       "['It started as just another uneventful afternoon, the kind where the sky hangs dull and gray like a curtain that forgot how to be blue.',\n",
       " 'Out of nowhere, this beat-up ice cream truck rolled into the cul-de-sac, its jingle playing a warped, off-key melody that sounded more like a haunted lullaby than a summer tune.',\n",
       " 'Kids peeked through their curtains but didn’t rush out like usual—something about the driver’s too-wide grin and mirrored sunglasses made everyone hesitate.',\n",
       " 'Still, curiosity’s a powerful thing.',\n",
       " 'One by one, they trickled outside, drawn like moths to a weird, sticky flame.',\n",
       " 'But instead of ice cream, the truck was handing out little jars filled with glowing jellybeans—each one pulsing like it had a heartbeat.',\n",
       " 'No one knew what would happen if you ate one, but the neighborhood would never be the same again after that day.']"
      ]
     },
     "execution_count": 17,
     "metadata": {},
     "output_type": "execute_result"
    }
   ],
   "source": [
    "sentences = nltk.sent_tokenize(paragraph)\n",
    "sentences"
   ]
  },
  {
   "cell_type": "code",
   "execution_count": 18,
   "id": "1e4a9cb5",
   "metadata": {},
   "outputs": [
    {
     "data": {
      "text/plain": [
       "list"
      ]
     },
     "execution_count": 18,
     "metadata": {},
     "output_type": "execute_result"
    }
   ],
   "source": [
    "type(sentences)"
   ]
  },
  {
   "cell_type": "code",
   "execution_count": 19,
   "id": "108ecf8c",
   "metadata": {},
   "outputs": [
    {
     "data": {
      "text/plain": [
       "['it start anoth unev afternoon , kind sky hang dull gray like curtain forgot blue .',\n",
       " 'out nowher , beat-up ice cream truck roll cul-de-sac , jingl play warp , off-key melodi sound like haunt lullabi summer tune .',\n",
       " 'kid peek curtain ’ rush like usual—someth driver ’ too-wid grin mirror sunglass made everyon hesit .',\n",
       " 'still , curios ’ power thing .',\n",
       " 'one one , trickl outsid , drawn like moth weird , sticki flame .',\n",
       " 'but instead ice cream , truck hand littl jar fill glow jellybeans—each one puls like heartbeat .',\n",
       " 'no one knew would happen ate one , neighborhood would never day .']"
      ]
     },
     "execution_count": 19,
     "metadata": {},
     "output_type": "execute_result"
    }
   ],
   "source": [
    "## Apply Stopwords and Filter and then Stem the Words\n",
    "\n",
    "for i in range(len(sentences)):\n",
    "    words = nltk.word_tokenize(sentences[i])\n",
    "    words = [stemmer.stem(word) for word in words if word not in set(stopwords.words('english'))]\n",
    "    sentences[i] = ' '.join(words) # converting all words to a single sentence\n",
    "sentences"
   ]
  },
  {
   "cell_type": "code",
   "execution_count": 20,
   "id": "22f98751",
   "metadata": {},
   "outputs": [],
   "source": [
    "# test on snowballstemmer\n",
    "from nltk.stem.snowball import SnowballStemmer\n",
    "\n",
    "snowball_stemmer = SnowballStemmer(\"english\")"
   ]
  },
  {
   "cell_type": "code",
   "execution_count": 21,
   "id": "01e09aba",
   "metadata": {},
   "outputs": [
    {
     "data": {
      "text/plain": [
       "['start anoth unev afternoon , kind sky hang dull gray like curtain forgot blue .',\n",
       " 'nowher , beat-up ice cream truck roll cul-de-sac , jingl play warp , off-key melodi sound like haunt lullabi summer tune .',\n",
       " 'kid peek curtain ’ rush like usual—someth driver ’ too-wid grin mirror sunglass made everyon hesit .',\n",
       " 'still , curio ’ power thing .',\n",
       " 'one one , trickl outsid , drawn like moth weird , sticki flame .',\n",
       " 'instead ice cream , truck hand littl jar fill glow jellybeans—each one pul like heartbeat .',\n",
       " 'one knew would happen ate one , neighborhood would never day .']"
      ]
     },
     "execution_count": 21,
     "metadata": {},
     "output_type": "execute_result"
    }
   ],
   "source": [
    "## Apply Stopwords and Filter and then Stem the Words\n",
    "\n",
    "for i in range(len(sentences)):\n",
    "    words = nltk.word_tokenize(sentences[i])\n",
    "    words = [snowball_stemmer.stem(word) for word in words if word not in set(stopwords.words('english'))]\n",
    "    sentences[i] = ' '.join(words) # converting all words to a single sentence\n",
    "sentences"
   ]
  },
  {
   "cell_type": "code",
   "execution_count": 22,
   "id": "37b7f58b",
   "metadata": {},
   "outputs": [],
   "source": [
    "# test on WordNetLemmatizer\n",
    "from nltk.stem import WordNetLemmatizer\n",
    "\n",
    "lemmatizer = WordNetLemmatizer()"
   ]
  },
  {
   "cell_type": "code",
   "execution_count": 23,
   "id": "905be85b",
   "metadata": {},
   "outputs": [
    {
     "data": {
      "text/plain": [
       "['start anoth unev afternoon , kind sky hang dull gray like curtain forgot blue .',\n",
       " 'nowher , beat-up ice cream truck roll cul-de-sac , jingl play warp , off-key melodi sound like haunt lullabi summer tune .',\n",
       " 'kid peek curtain ’ rush like usual—someth driver ’ too-wid grin mirror sunglass made everyon hesit .',\n",
       " 'still , curio ’ power thing .',\n",
       " 'one one , trickl outsid , drawn like moth weird , sticki flame .',\n",
       " 'instead ice cream , truck hand littl jar fill glow jellybeans—each one pul like heartbeat .',\n",
       " 'one knew would happen ate one , neighborhood would never day .']"
      ]
     },
     "execution_count": 23,
     "metadata": {},
     "output_type": "execute_result"
    }
   ],
   "source": [
    "## Apply Stopwords and Filter and then Stem the Words\n",
    "\n",
    "for i in range(len(sentences)):\n",
    "    words = nltk.word_tokenize(sentences[i])\n",
    "    words = [lemmatizer.lemmatize(word) for word in words if word not in set(stopwords.words('english'))]\n",
    "    sentences[i] = ' '.join(words) # converting all words to a single sentence\n",
    "sentences"
   ]
  },
  {
   "cell_type": "code",
   "execution_count": null,
   "id": "f802bc81",
   "metadata": {},
   "outputs": [],
   "source": []
  }
 ],
 "metadata": {
  "kernelspec": {
   "display_name": "pytorch",
   "language": "python",
   "name": "python3"
  },
  "language_info": {
   "codemirror_mode": {
    "name": "ipython",
    "version": 3
   },
   "file_extension": ".py",
   "mimetype": "text/x-python",
   "name": "python",
   "nbconvert_exporter": "python",
   "pygments_lexer": "ipython3",
   "version": "3.10.16"
  }
 },
 "nbformat": 4,
 "nbformat_minor": 5
}
