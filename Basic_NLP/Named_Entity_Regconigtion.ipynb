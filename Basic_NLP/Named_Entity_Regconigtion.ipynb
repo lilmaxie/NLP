{
 "cells": [
  {
   "cell_type": "markdown",
   "id": "c882e67a",
   "metadata": {},
   "source": [
    "#### NAMED ENTITIES ####\n",
    "Named entities are words or phrases that refer to specific people, organizations, locations, dates, and other entities. Named entity recognition (NER) is a subtask of natural language processing (NLP) that involves identifying and classifying these entities in text.\n",
    "Ex:\n",
    "- sentences = \"Example sentence with a date 2023-10-01 and a location New York.\"\n",
    "    - entities = [\"DATE\", \"LOCATION\"]\n",
    "    - entity = \"DATE\"\n",
    "    - entity = \"LOCATION\"\n",
    "    - entity = \"PERSON\"\n",
    "    - entity = \"ORGANIZATION\"\n",
    "    - entity = \"MONEY\"\n",
    "    - entity = \"PERCENT\"\n",
    "    - entity = \"TIME\"\n",
    "    - entity = \"ORDINAL\"\n",
    "    - entity = \"QUANTITY\"\n",
    "    - entity = \"GPE\" # Geopolitical Entity\n",
    "    - entity = \"NORP\" # Nationalities or religious or political groups\n",
    "    - entity = \"FAC\" # Facilities\n",
    "    - entity = \"PRODUCT\" # Objects, vehicles, foods, etc. (not services)"
   ]
  },
  {
   "cell_type": "code",
   "execution_count": 1,
   "id": "096e9f9f",
   "metadata": {},
   "outputs": [],
   "source": [
    "sentences = \"Example sentence with a date 2023-10-01 and a location New York.\""
   ]
  },
  {
   "cell_type": "code",
   "execution_count": 2,
   "id": "16ec369f",
   "metadata": {},
   "outputs": [
    {
     "data": {
      "text/plain": [
       "['Example',\n",
       " 'sentence',\n",
       " 'with',\n",
       " 'a',\n",
       " 'date',\n",
       " '2023-10-01',\n",
       " 'and',\n",
       " 'a',\n",
       " 'location',\n",
       " 'New',\n",
       " 'York',\n",
       " '.']"
      ]
     },
     "execution_count": 2,
     "metadata": {},
     "output_type": "execute_result"
    }
   ],
   "source": [
    "import nltk \n",
    "\n",
    "nltk.word_tokenize(sentences)"
   ]
  },
  {
   "cell_type": "code",
   "execution_count": 4,
   "id": "36653587",
   "metadata": {},
   "outputs": [
    {
     "data": {
      "text/plain": [
       "[('Example', 'JJ'),\n",
       " ('sentence', 'NN'),\n",
       " ('with', 'IN'),\n",
       " ('a', 'DT'),\n",
       " ('date', 'NN'),\n",
       " ('2023-10-01', 'JJ'),\n",
       " ('and', 'CC'),\n",
       " ('a', 'DT'),\n",
       " ('location', 'NN'),\n",
       " ('New', 'NNP'),\n",
       " ('York', 'NNP'),\n",
       " ('.', '.')]"
      ]
     },
     "execution_count": 4,
     "metadata": {},
     "output_type": "execute_result"
    }
   ],
   "source": [
    "tag_elements = nltk.pos_tag(nltk.word_tokenize(sentences))\n",
    "tag_elements"
   ]
  },
  {
   "cell_type": "code",
   "execution_count": 6,
   "id": "c7354202",
   "metadata": {},
   "outputs": [
    {
     "name": "stderr",
     "output_type": "stream",
     "text": [
      "[nltk_data] Downloading package maxent_ne_chunker_tab to\n",
      "[nltk_data]     C:\\Users\\hoang\\AppData\\Roaming\\nltk_data...\n",
      "[nltk_data]   Unzipping chunkers\\maxent_ne_chunker_tab.zip.\n"
     ]
    },
    {
     "data": {
      "text/plain": [
       "True"
      ]
     },
     "execution_count": 6,
     "metadata": {},
     "output_type": "execute_result"
    }
   ],
   "source": [
    "nltk.download('maxent_ne_chunker_tab')"
   ]
  },
  {
   "cell_type": "code",
   "execution_count": 8,
   "id": "ac191ca9",
   "metadata": {},
   "outputs": [
    {
     "name": "stderr",
     "output_type": "stream",
     "text": [
      "[nltk_data] Downloading package words to\n",
      "[nltk_data]     C:\\Users\\hoang\\AppData\\Roaming\\nltk_data...\n",
      "[nltk_data]   Package words is already up-to-date!\n"
     ]
    },
    {
     "data": {
      "text/plain": [
       "True"
      ]
     },
     "execution_count": 8,
     "metadata": {},
     "output_type": "execute_result"
    }
   ],
   "source": [
    "nltk.download('words')"
   ]
  },
  {
   "cell_type": "code",
   "execution_count": null,
   "id": "27ac4a3f",
   "metadata": {},
   "outputs": [
    {
     "name": "stdout",
     "output_type": "stream",
     "text": [
      "(S\n",
      "  (GPE Example/JJ)\n",
      "  sentence/NN\n",
      "  with/IN\n",
      "  a/DT\n",
      "  date/NN\n",
      "  2023-10-01/JJ\n",
      "  and/CC\n",
      "  a/DT\n",
      "  location/NN\n",
      "  (GPE New/NNP York/NNP)\n",
      "  ./.)\n"
     ]
    }
   ],
   "source": [
    "print(nltk.ne_chunk(tag_elements))"
   ]
  },
  {
   "cell_type": "code",
   "execution_count": 12,
   "id": "a453a4bd",
   "metadata": {},
   "outputs": [],
   "source": [
    "nltk.ne_chunk(tag_elements).draw()"
   ]
  },
  {
   "cell_type": "code",
   "execution_count": null,
   "id": "495501aa",
   "metadata": {},
   "outputs": [],
   "source": []
  }
 ],
 "metadata": {
  "kernelspec": {
   "display_name": "pytorch",
   "language": "python",
   "name": "python3"
  },
  "language_info": {
   "codemirror_mode": {
    "name": "ipython",
    "version": 3
   },
   "file_extension": ".py",
   "mimetype": "text/x-python",
   "name": "python",
   "nbconvert_exporter": "python",
   "pygments_lexer": "ipython3",
   "version": "3.10.16"
  }
 },
 "nbformat": 4,
 "nbformat_minor": 5
}
